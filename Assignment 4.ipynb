{
 "cells": [
  {
   "cell_type": "markdown",
   "metadata": {},
   "source": [
    "1.1 Write a Python Program(with class concepts) to find the area of the triangle using the below\n",
    "formula.\n",
    "area = (s*(s-a)*(s-b)*(s-c)) ** 0.5\n",
    "Function to take the length of the sides of triangle from user should be defined in the parent\n",
    "class and function to calculate the area should be defined in subclass."
   ]
  },
  {
   "cell_type": "code",
   "execution_count": 2,
   "metadata": {},
   "outputs": [],
   "source": [
    "class SidesInput:\n",
    "    @staticmethod\n",
    "    def userInput():\n",
    "        a=int(input(\"Enter first side\"))\n",
    "        b=int(input(\"Enter first side\"))\n",
    "        c=int(input(\"Enter first side\"))\n",
    "        return a,b,c"
   ]
  },
  {
   "cell_type": "code",
   "execution_count": 3,
   "metadata": {},
   "outputs": [],
   "source": [
    "class TriangleArea(SidesInput):\n",
    "    def __init(self):\n",
    "        a,b,c= super().userInput()\n",
    "        return a,b,c\n",
    "    @staticmethod\n",
    "    def Area(a,b,c):\n",
    "        s=(a+b+c)/2\n",
    "        area=(s*(s-a)*(s-b)*(s-c))*0.5\n",
    "        return area"
   ]
  },
  {
   "cell_type": "code",
   "execution_count": 4,
   "metadata": {},
   "outputs": [
    {
     "name": "stdout",
     "output_type": "stream",
     "text": [
      "Enter first side15\n",
      "Enter first side13\n",
      "Enter first side12\n",
      "Area of triangle : 2800.0\n"
     ]
    }
   ],
   "source": [
    "b1=TriangleArea()\n",
    "a,b,c=b1.userInput()\n",
    "ResultArea=b1.Area(a,b,c)\n",
    "print(\"Area of triangle : {}\".format(ResultArea))"
   ]
  },
  {
   "cell_type": "markdown",
   "metadata": {},
   "source": [
    "1.2 Write a function filter_long_words() that takes a list of words and an integer n and returns\n",
    "the list of words that are longer than n."
   ]
  },
  {
   "cell_type": "code",
   "execution_count": 12,
   "metadata": {},
   "outputs": [],
   "source": [
    "def filter_long_words(lst,n):\n",
    "    returnList=[]\n",
    "    for l in lst:\n",
    "        if len(l)>n:\n",
    "            returnList.append(l)\n",
    "        else:\n",
    "            continue\n",
    "    return returnList"
   ]
  },
  {
   "cell_type": "code",
   "execution_count": 13,
   "metadata": {},
   "outputs": [
    {
     "name": "stdout",
     "output_type": "stream",
     "text": [
      "['hari nath reddy', 'murali krishna', 'praneeth reddy']\n"
     ]
    }
   ],
   "source": [
    "lst=['praveen kumar','krishna kumar','hari nath reddy','Geethika','murali krishna','hari krishna','nethra kodi','praneeth reddy']\n",
    "n=13\n",
    "ret=filter_long_words(lst,n)\n",
    "print(ret)"
   ]
  },
  {
   "cell_type": "markdown",
   "metadata": {},
   "source": [
    "2.1 Write a Python program using function concept that maps list of words into a list of integers\n",
    "representing the lengths of the corresponding words.\n",
    "Hint: If a list [ ab,cde,erty] is passed on to the python function output should come as [2,3,4]\n",
    "Here 2,3 and 4 are the lengths of the words in the list."
   ]
  },
  {
   "cell_type": "code",
   "execution_count": 14,
   "metadata": {},
   "outputs": [],
   "source": [
    "def length_of_words(lst):\n",
    "    resultList=[]\n",
    "    for i in lst:\n",
    "        resultList.append(len(i))\n",
    "    return resultList"
   ]
  },
  {
   "cell_type": "code",
   "execution_count": 15,
   "metadata": {},
   "outputs": [
    {
     "data": {
      "text/plain": [
       "[13, 13, 15, 8, 14, 12, 11, 14]"
      ]
     },
     "execution_count": 15,
     "metadata": {},
     "output_type": "execute_result"
    }
   ],
   "source": [
    "length_of_words(lst)"
   ]
  },
  {
   "cell_type": "markdown",
   "metadata": {},
   "source": [
    "2.2 Write a Python function which takes a character (i.e. a string of length 1) and returns True if\n",
    "it is a vowel, False otherwise."
   ]
  },
  {
   "cell_type": "code",
   "execution_count": 1,
   "metadata": {},
   "outputs": [],
   "source": [
    "import re"
   ]
  },
  {
   "cell_type": "code",
   "execution_count": 29,
   "metadata": {},
   "outputs": [
    {
     "name": "stdout",
     "output_type": "stream",
     "text": [
      "Enter a Charecter : Q\n"
     ]
    },
    {
     "data": {
      "text/plain": [
       "False"
      ]
     },
     "execution_count": 29,
     "metadata": {},
     "output_type": "execute_result"
    }
   ],
   "source": [
    "def char_check():\n",
    "    pattern='[a-zA-Z]'\n",
    "    user_input=str(input(\"Enter a Charecter : \"))\n",
    "    lst=['a','e','i','o','u','A','E','I','O','U']\n",
    "    resultMatch=re.match(pattern,user_input)\n",
    "    if resultMatch[0] in lst:\n",
    "        return True\n",
    "    else:\n",
    "        return False\n",
    "char_check()"
   ]
  }
 ],
 "metadata": {
  "kernelspec": {
   "display_name": "Python 3",
   "language": "python",
   "name": "python3"
  },
  "language_info": {
   "codemirror_mode": {
    "name": "ipython",
    "version": 3
   },
   "file_extension": ".py",
   "mimetype": "text/x-python",
   "name": "python",
   "nbconvert_exporter": "python",
   "pygments_lexer": "ipython3",
   "version": "3.7.1"
  }
 },
 "nbformat": 4,
 "nbformat_minor": 2
}
