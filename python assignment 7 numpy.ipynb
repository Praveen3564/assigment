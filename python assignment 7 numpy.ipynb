{
 "cells": [
  {
   "cell_type": "code",
   "execution_count": 1,
   "metadata": {},
   "outputs": [],
   "source": [
    "import numpy as np"
   ]
  },
  {
   "cell_type": "markdown",
   "metadata": {},
   "source": [
    "Write a function so that the columns of the output matrix are powers of the input\n",
    "vector"
   ]
  },
  {
   "cell_type": "code",
   "execution_count": 2,
   "metadata": {},
   "outputs": [
    {
     "data": {
      "text/plain": [
       "matrix([[  16,    8,    4,    2,    1],\n",
       "        [ 256,   64,   16,    4,    1],\n",
       "        [1296,  216,   36,    6,    1],\n",
       "        [4096,  512,   64,    8,    1],\n",
       "        [6561,  729,   81,    9,    1]])"
      ]
     },
     "execution_count": 2,
     "metadata": {},
     "output_type": "execute_result"
    }
   ],
   "source": [
    "def outputColInputPow(lst):\n",
    "    #defining the empty lists\n",
    "    power=[]\n",
    "    finalList=[]\n",
    "    appendlst=[]\n",
    "    #length of given list\n",
    "    listLength=len(lst)\n",
    "    #extracting the indexes of the lists given\n",
    "    for i in lst:\n",
    "        power.append(lst.index(i))\n",
    "    power=power[::-1]\n",
    "    #List of the elements to convert into matrix\n",
    "    resultList=[i**j for i in lst for j in power]\n",
    "    #splitting the list into sublists\n",
    "    finalList=[resultList[i:i + listLength] for i in range(0, len(resultList), listLength)]\n",
    "    finalMatrix=np.matrix(finalList)\n",
    "    return finalMatrix\n",
    "\n",
    "    \n",
    "    \n",
    "lst=[2,4,6,8,9]\n",
    "outputColInputPow(lst)\n"
   ]
  },
  {
   "cell_type": "markdown",
   "metadata": {},
   "source": [
    "Write a function to find moving average in an array over a window:\n",
    "Test it over [3, 5, 7, 2, 8, 10, 11, 65, 72, 81, 99, 100, 150] and window of 3."
   ]
  },
  {
   "cell_type": "code",
   "execution_count": 9,
   "metadata": {},
   "outputs": [],
   "source": [
    "def movingAverage(lst,window):\n",
    "    finalMovingAverageList=[]\n",
    "    n=len(lst)\n",
    "    k=window\n",
    "    iteration=0\n",
    "    while iteration < n-k+1:\n",
    "        windowSize=lst[iteration:iteration+k]\n",
    "        average=sum(windowSize)/k\n",
    "        finalMovingAverageList.append(average)\n",
    "        iteration=iteration+1\n",
    "    return finalMovingAverageList"
   ]
  },
  {
   "cell_type": "code",
   "execution_count": 10,
   "metadata": {},
   "outputs": [
    {
     "data": {
      "text/plain": [
       "[5.0,\n",
       " 4.666666666666667,\n",
       " 5.666666666666667,\n",
       " 6.666666666666667,\n",
       " 9.666666666666666,\n",
       " 28.666666666666668,\n",
       " 49.333333333333336,\n",
       " 72.66666666666667,\n",
       " 84.0,\n",
       " 93.33333333333333,\n",
       " 116.33333333333333]"
      ]
     },
     "execution_count": 10,
     "metadata": {},
     "output_type": "execute_result"
    }
   ],
   "source": [
    "inputList=[3, 5, 7, 2, 8, 10, 11, 65, 72, 81, 99, 100, 150]\n",
    "movingAverage(inputList,3)"
   ]
  }
 ],
 "metadata": {
  "kernelspec": {
   "display_name": "Python 3",
   "language": "python",
   "name": "python3"
  },
  "language_info": {
   "codemirror_mode": {
    "name": "ipython",
    "version": 3
   },
   "file_extension": ".py",
   "mimetype": "text/x-python",
   "name": "python",
   "nbconvert_exporter": "python",
   "pygments_lexer": "ipython3",
   "version": "3.7.1"
  }
 },
 "nbformat": 4,
 "nbformat_minor": 2
}
