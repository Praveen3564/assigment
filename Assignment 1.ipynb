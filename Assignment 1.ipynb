{
 "cells": [
  {
   "cell_type": "markdown",
   "metadata": {},
   "source": [
    "1.Write a Program which will find all such numbers which are divisible by 7 but are not a multiple of 5, between 2000 and 3200 (both included).The numbers obtained should be printed in a comma-separated sequence a single line."
   ]
  },
  {
   "cell_type": "code",
   "execution_count": null,
   "metadata": {},
   "outputs": [],
   "source": [
    "finalString=''\n",
    "finalList=list()\n",
    "fnum=2000\n",
    "lnum=3201\n",
    "for i in range(fnum,lnum):\n",
    "    if i%7==0:\n",
    "        s=\",\"\n",
    "        if i%5==0:\n",
    "            pass\n",
    "        else:\n",
    "            j=str(i)+s\n",
    "            finalString=finalString+j\n",
    "finalList=list(finalString)\n",
    "del finalList[len(finalList)-1]\n",
    "finalList.append('.')\n",
    "finalString=''.join(finalList)\n",
    "print(finalString)"
   ]
  },
  {
   "cell_type": "markdown",
   "metadata": {},
   "source": [
    "2.Write a Python program to accept the user's first and last name and then getting them printed in the the reverse order with a space between first name and last name."
   ]
  },
  {
   "cell_type": "code",
   "execution_count": null,
   "metadata": {},
   "outputs": [],
   "source": [
    "fname=input(\"Enter Your first name:\")\n",
    "lname=input(\"Enter Your last name:\")\n",
    "name=fname+\" \"+lname\n",
    "print(name[::-1])"
   ]
  },
  {
   "cell_type": "markdown",
   "metadata": {},
   "source": [
    "3.Write a python progaram  to find the volume of a sphere with diameter 12cm."
   ]
  },
  {
   "cell_type": "code",
   "execution_count": null,
   "metadata": {},
   "outputs": [],
   "source": [
    "radius=12\n",
    "volume=4/3*22/7*radius\n",
    "print(volume)"
   ]
  }
 ],
 "metadata": {
  "kernelspec": {
   "display_name": "Python 3",
   "language": "python",
   "name": "python3"
  },
  "language_info": {
   "codemirror_mode": {
    "name": "ipython",
    "version": 3
   },
   "file_extension": ".py",
   "mimetype": "text/x-python",
   "name": "python",
   "nbconvert_exporter": "python",
   "pygments_lexer": "ipython3",
   "version": "3.7.1"
  }
 },
 "nbformat": 4,
 "nbformat_minor": 2
}
